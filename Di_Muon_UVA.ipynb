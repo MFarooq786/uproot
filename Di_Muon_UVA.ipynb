{
 "cells": [
  {
   "cell_type": "markdown",
   "id": "3fe9fc6f-e413-4066-8e88-fba6139e25c5",
   "metadata": {},
   "source": [
    "### Load Libraries"
   ]
  },
  {
   "cell_type": "code",
   "execution_count": 1,
   "id": "1e739a3e-1ea2-4894-9992-67d418e32114",
   "metadata": {},
   "outputs": [],
   "source": [
    "import uproot"
   ]
  },
  {
   "cell_type": "markdown",
   "id": "8ff6647e-8913-4341-b03f-e3b21d235800",
   "metadata": {},
   "source": [
    "### Open the Root file\n",
    "The following Root file taken from https://drive.google.com/file/d/1i4D0vm6mCESxByws9p7PkmRFDcchYW43/view?usp=sharing. "
   ]
  },
  {
   "cell_type": "code",
   "execution_count": 4,
   "id": "cb9beec5-a4a6-4bfb-a342-3b74a776dd56",
   "metadata": {},
   "outputs": [
    {
     "data": {
      "text/plain": [
       "<ReadOnlyDirectory '/' at 0x7f7a595ec790>"
      ]
     },
     "execution_count": 4,
     "metadata": {},
     "output_type": "execute_result"
    }
   ],
   "source": [
    "file = uproot.open('DiMu_NormTarget1M.root')\n",
    "file"
   ]
  },
  {
   "cell_type": "markdown",
   "id": "1823e997-47f8-44da-b165-47a3ab91f82f",
   "metadata": {},
   "source": [
    "### File Contents\n",
    "You can list the contents of the file using the keyword 'key'"
   ]
  },
  {
   "cell_type": "code",
   "execution_count": 5,
   "id": "7e12ccf1-304c-4b6a-acc2-ce8fd1ea1181",
   "metadata": {},
   "outputs": [
    {
     "data": {
      "text/plain": [
       "['QA_ana;1']"
      ]
     },
     "execution_count": 5,
     "metadata": {},
     "output_type": "execute_result"
    }
   ],
   "source": [
    "file.keys()"
   ]
  },
  {
   "cell_type": "markdown",
   "id": "109a70da-9f8c-4fb7-8e14-c9b58a7da91d",
   "metadata": {},
   "source": [
    "### Classnames"
   ]
  },
  {
   "cell_type": "code",
   "execution_count": 6,
   "id": "1a5f2dd2-64a3-4929-99e4-1eb168bc2a61",
   "metadata": {},
   "outputs": [
    {
     "data": {
      "text/plain": [
       "{'QA_ana;1': 'TTree'}"
      ]
     },
     "execution_count": 6,
     "metadata": {},
     "output_type": "execute_result"
    }
   ],
   "source": [
    "file.classnames()"
   ]
  },
  {
   "cell_type": "markdown",
   "id": "c599275b-58f9-473b-8ff4-e89835e0ac47",
   "metadata": {},
   "source": [
    "### Accessing the Contents"
   ]
  },
  {
   "cell_type": "code",
   "execution_count": 7,
   "id": "95823256-5001-4554-9a22-6c5d2553f96e",
   "metadata": {},
   "outputs": [
    {
     "data": {
      "text/plain": [
       "<TTree 'QA_ana' (87 branches) at 0x7f7a2cfb3750>"
      ]
     },
     "execution_count": 7,
     "metadata": {},
     "output_type": "execute_result"
    }
   ],
   "source": [
    "file['QA_ana;1']"
   ]
  },
  {
   "cell_type": "markdown",
   "id": "ac321431-4feb-4954-914b-b9af08c12efa",
   "metadata": {},
   "source": [
    "### Trees"
   ]
  },
  {
   "cell_type": "code",
   "execution_count": 8,
   "id": "eeba2b6b-1581-47f6-81f9-534370d3296d",
   "metadata": {},
   "outputs": [],
   "source": [
    "tree = file['QA_ana;1']"
   ]
  },
  {
   "cell_type": "markdown",
   "id": "41a7c8b4-303b-4c98-a4cb-82b8728cab7f",
   "metadata": {},
   "source": [
    "### Contents of the 'QA_ana'"
   ]
  },
  {
   "cell_type": "code",
   "execution_count": 9,
   "id": "aa2e7aa8-8bc2-46d8-bdde-438da7fa6dea",
   "metadata": {},
   "outputs": [
    {
     "data": {
      "text/plain": [
       "['n_tracks',\n",
       " 'n_recTracks',\n",
       " 'pid',\n",
       " 'gvx',\n",
       " 'gvy',\n",
       " 'gvz',\n",
       " 'gpx',\n",
       " 'gpy',\n",
       " 'gpz',\n",
       " 'gpt',\n",
       " 'geta',\n",
       " 'gphi',\n",
       " 'ac_gpx',\n",
       " 'ac_gpy',\n",
       " 'ac_gpz',\n",
       " 'rec_vx',\n",
       " 'rec_vy',\n",
       " 'rec_vz',\n",
       " 'rec_px',\n",
       " 'rec_py',\n",
       " 'rec_pz',\n",
       " 'rec_pt',\n",
       " 'rec_eta',\n",
       " 'rec_phi',\n",
       " 'sq_pos_st1',\n",
       " 'sq_drift_st1',\n",
       " 'sq_x_st1',\n",
       " 'sq_y_st1',\n",
       " 'sq_z_st1',\n",
       " 'sq_px_st1',\n",
       " 'sq_py_st1',\n",
       " 'sq_pz_st1',\n",
       " 'rec_drift_st1',\n",
       " 'rec_px_st1',\n",
       " 'rec_py_st1',\n",
       " 'rec_pz_st1',\n",
       " 'rec_x_st1',\n",
       " 'rec_y_st1',\n",
       " 'rec_z_st1',\n",
       " 'sq_pos_st2',\n",
       " 'sq_drift_st2',\n",
       " 'sq_x_st2',\n",
       " 'sq_y_st2',\n",
       " 'sq_px_st2',\n",
       " 'sq_py_st2',\n",
       " 'sq_pz_st2',\n",
       " 'rec_drift_st2',\n",
       " 'rec_px_st2',\n",
       " 'rec_py_st2',\n",
       " 'rec_pz_st2',\n",
       " 'rec_x_st2',\n",
       " 'rec_y_st2',\n",
       " 'rec_z_st2',\n",
       " 'sq_pos_st3',\n",
       " 'sq_drift_st3',\n",
       " 'sq_x_st3',\n",
       " 'sq_y_st3',\n",
       " 'sq_z_st3',\n",
       " 'sq_px_st3',\n",
       " 'sq_py_st3',\n",
       " 'sq_pz_st3',\n",
       " 'rec_drift_st3',\n",
       " 'rec_px_st3',\n",
       " 'rec_py_st3',\n",
       " 'rec_pz_st3',\n",
       " 'rec_x_st3',\n",
       " 'rec_y_st3',\n",
       " 'rec_z_st3',\n",
       " 'pull_q2p_st1',\n",
       " 'pull_q2p_st2',\n",
       " 'pull_q2p_st3',\n",
       " 'chisq_st1',\n",
       " 'prob_st1',\n",
       " 'quality',\n",
       " 'nhits',\n",
       " 'nhits_st1',\n",
       " 'nhits_st2',\n",
       " 'nhits_st3',\n",
       " 'charge',\n",
       " 'nHits',\n",
       " 'detectorID',\n",
       " 'elementID',\n",
       " 'driftDistance',\n",
       " 'triggerbits',\n",
       " 'trig_bits',\n",
       " 'dimu_mass',\n",
       " 'n_dimu']"
      ]
     },
     "execution_count": 9,
     "metadata": {},
     "output_type": "execute_result"
    }
   ],
   "source": [
    "tree.keys()"
   ]
  },
  {
   "cell_type": "markdown",
   "id": "ed171155-14b5-4b18-b7f8-67f209231a37",
   "metadata": {},
   "source": [
    "### Actual data from the table"
   ]
  },
  {
   "cell_type": "code",
   "execution_count": 10,
   "id": "984cf109-4ea8-421a-bc7f-4dd1dc4b8467",
   "metadata": {},
   "outputs": [
    {
     "data": {
      "text/html": [
       "<pre>[{n_tracks: 2, n_recTracks: 1, pid: [13, -13], gvx: [...], gvy: [...], ...},\n",
       " {n_tracks: 2, n_recTracks: 1, pid: [13, -13], gvx: [...], gvy: [...], ...},\n",
       " {n_tracks: 2, n_recTracks: 1, pid: [13, -13], gvx: [...], gvy: [...], ...},\n",
       " {n_tracks: 2, n_recTracks: 1, pid: [13, -13], gvx: [...], gvy: [...], ...},\n",
       " {n_tracks: 2, n_recTracks: 1, pid: [13, -13], gvx: [...], gvy: [...], ...},\n",
       " {n_tracks: 2, n_recTracks: 1, pid: [13, -13], gvx: [...], gvy: [...], ...},\n",
       " {n_tracks: 2, n_recTracks: 1, pid: [13, -13], gvx: [...], gvy: [...], ...},\n",
       " {n_tracks: 2, n_recTracks: 1, pid: [13, -13], gvx: [...], gvy: [...], ...},\n",
       " {n_tracks: 2, n_recTracks: 1, pid: [13, -13], gvx: [...], gvy: [...], ...},\n",
       " {n_tracks: 2, n_recTracks: 1, pid: [13, -13], gvx: [...], gvy: [...], ...},\n",
       " ...,\n",
       " {n_tracks: 2, n_recTracks: 1, pid: [13, -13], gvx: [...], gvy: [...], ...},\n",
       " {n_tracks: 2, n_recTracks: 0, pid: [13, -13], gvx: [...], gvy: [...], ...},\n",
       " {n_tracks: 2, n_recTracks: 1, pid: [13, -13], gvx: [...], gvy: [...], ...},\n",
       " {n_tracks: 2, n_recTracks: 1, pid: [13, -13], gvx: [...], gvy: [...], ...},\n",
       " {n_tracks: 2, n_recTracks: 1, pid: [13, -13], gvx: [...], gvy: [...], ...},\n",
       " {n_tracks: 2, n_recTracks: 1, pid: [13, -13], gvx: [...], gvy: [...], ...},\n",
       " {n_tracks: 2, n_recTracks: 1, pid: [13, -13], gvx: [...], gvy: [...], ...},\n",
       " {n_tracks: 2, n_recTracks: 1, pid: [13, -13], gvx: [...], gvy: [...], ...},\n",
       " {n_tracks: 2, n_recTracks: 1, pid: [13, -13], gvx: [...], gvy: [...], ...}]\n",
       "----------------------------------------------------------------------------\n",
       "type: 310367 * {\n",
       "    n_tracks: int32,\n",
       "    n_recTracks: int32,\n",
       "    pid: var * int32,\n",
       "    gvx: var * float32,\n",
       "    gvy: var * float32,\n",
       "    gvz: var * float32,\n",
       "    gpx: var * float32,\n",
       "    gpy: var * float32,\n",
       "    gpz: var * float32,\n",
       "    gpt: var * float32,\n",
       "    geta: var * float32,\n",
       "    gphi: var * float32,\n",
       "    ac_gpx: var * float32,\n",
       "    ac_gpy: var * float32,\n",
       "    ac_gpz: var * float32,\n",
       "    rec_vx: var * float32,\n",
       "    rec_vy: var * float32,\n",
       "    rec_vz: var * float32,\n",
       "    rec_px: var * float32,\n",
       "    rec_py: var * float32,\n",
       "    rec_pz: var * float32,\n",
       "    rec_pt: var * float32,\n",
       "    rec_eta: var * float32,\n",
       "    rec_phi: var * float32,\n",
       "    sq_pos_st1: var * float32,\n",
       "    sq_drift_st1: var * float32,\n",
       "    sq_x_st1: var * float32,\n",
       "    sq_y_st1: var * float32,\n",
       "    sq_z_st1: var * float32,\n",
       "    sq_px_st1: var * float32,\n",
       "    sq_py_st1: var * float32,\n",
       "    sq_pz_st1: var * float32,\n",
       "    rec_drift_st1: var * float32,\n",
       "    rec_px_st1: var * float32,\n",
       "    rec_py_st1: var * float32,\n",
       "    rec_pz_st1: var * float32,\n",
       "    rec_x_st1: var * float32,\n",
       "    rec_y_st1: var * float32,\n",
       "    rec_z_st1: var * float32,\n",
       "    sq_pos_st2: var * float32,\n",
       "    sq_drift_st2: var * float32,\n",
       "    sq_x_st2: var * float32,\n",
       "    sq_y_st2: var * float32,\n",
       "    sq_px_st2: var * float32,\n",
       "    sq_py_st2: var * float32,\n",
       "    sq_pz_st2: var * float32,\n",
       "    rec_drift_st2: var * float32,\n",
       "    rec_px_st2: var * float32,\n",
       "    rec_py_st2: var * float32,\n",
       "    rec_pz_st2: var * float32,\n",
       "    rec_x_st2: var * float32,\n",
       "    rec_y_st2: var * float32,\n",
       "    rec_z_st2: var * float32,\n",
       "    sq_pos_st3: var * float32,\n",
       "    sq_drift_st3: var * float32,\n",
       "    sq_x_st3: var * float32,\n",
       "    sq_y_st3: var * float32,\n",
       "    sq_z_st3: var * float32,\n",
       "    sq_px_st3: var * float32,\n",
       "    sq_py_st3: var * float32,\n",
       "    sq_pz_st3: var * float32,\n",
       "    rec_drift_st3: var * float32,\n",
       "    rec_px_st3: var * float32,\n",
       "    rec_py_st3: var * float32,\n",
       "    rec_pz_st3: var * float32,\n",
       "    rec_x_st3: var * float32,\n",
       "    rec_y_st3: var * float32,\n",
       "    rec_z_st3: var * float32,\n",
       "    pull_q2p_st1: var * float32,\n",
       "    pull_q2p_st2: var * float32,\n",
       "    pull_q2p_st3: var * float32,\n",
       "    chisq_st1: var * float32,\n",
       "    prob_st1: var * float32,\n",
       "    quality: var * float32,\n",
       "    nhits: var * int32,\n",
       "    nhits_st1: var * int32,\n",
       "    nhits_st2: var * int32,\n",
       "    nhits_st3: var * int32,\n",
       "    charge: var * int32,\n",
       "    nHits: int32,\n",
       "    detectorID: 500 * int32,\n",
       "    elementID: 500 * int32,\n",
       "    driftDistance: var * float32,\n",
       "    triggerbits: 10 * int32,\n",
       "    trig_bits: int32,\n",
       "    dimu_mass: 100 * float32,\n",
       "    n_dimu: int32\n",
       "}</pre>"
      ],
      "text/plain": [
       "<Array [{n_tracks: 2, ...}, {...}, ..., {...}] type='310367 * {n_tracks: in...'>"
      ]
     },
     "execution_count": 10,
     "metadata": {},
     "output_type": "execute_result"
    }
   ],
   "source": [
    "tree.arrays()"
   ]
  },
  {
   "cell_type": "markdown",
   "id": "db320521-d0b9-412e-8778-897dc42c293e",
   "metadata": {},
   "source": [
    "### Branches"
   ]
  },
  {
   "cell_type": "code",
   "execution_count": 11,
   "id": "95c435cc-e8ec-4606-aba8-f569173e905d",
   "metadata": {},
   "outputs": [],
   "source": [
    "branches = tree.arrays()"
   ]
  },
  {
   "cell_type": "markdown",
   "id": "838285fa-4a2f-42b1-9b56-6c7d24710639",
   "metadata": {},
   "source": [
    "### Look at each branch individually"
   ]
  },
  {
   "cell_type": "code",
   "execution_count": 12,
   "id": "7d40d0d3-2e1e-4c42-b3a5-45c356be947b",
   "metadata": {},
   "outputs": [
    {
     "data": {
      "text/html": [
       "<pre>[[-1.56, 2.49],\n",
       " [-2.42, -2.78],\n",
       " [-2.04, 3.08],\n",
       " [0.415, 2.04],\n",
       " [-2.24, -2.83],\n",
       " [-2.42, 2.64],\n",
       " [1.04, -2.53],\n",
       " [0.2, 1.62],\n",
       " [-0.792, 0.971],\n",
       " [-2.75, -2.62],\n",
       " ...,\n",
       " [1.53, 1.1],\n",
       " [3.13, -2.77],\n",
       " [2.71, -2.73],\n",
       " [-0.687, -2.49],\n",
       " [-1.39, -2.24],\n",
       " [1.7, 2.61],\n",
       " [2.16, 2.43],\n",
       " [-2.78, 2.09],\n",
       " [-0.433, 2.18]]\n",
       "----------------------------\n",
       "type: 310367 * var * float32</pre>"
      ],
      "text/plain": [
       "<Array [[-1.56, 2.49], ..., [-0.433, 2.18]] type='310367 * var * float32'>"
      ]
     },
     "execution_count": 12,
     "metadata": {},
     "output_type": "execute_result"
    }
   ],
   "source": [
    "branches['gphi']"
   ]
  },
  {
   "cell_type": "markdown",
   "id": "2619608d-238d-414f-b0d4-801baa02f2a7",
   "metadata": {},
   "source": [
    "### Histogram"
   ]
  },
  {
   "cell_type": "code",
   "execution_count": 13,
   "id": "155e7eec-6ff6-4575-9179-0d1a7c758a20",
   "metadata": {},
   "outputs": [],
   "source": [
    "import matplotlib.pyplot as plt"
   ]
  },
  {
   "cell_type": "markdown",
   "id": "8482d0ef-747d-4d59-b474-5a8c29e45218",
   "metadata": {},
   "source": [
    "### gphi"
   ]
  },
  {
   "cell_type": "code",
   "execution_count": 26,
   "id": "dff16099-75f3-443d-b63b-a69c137db369",
   "metadata": {},
   "outputs": [
    {
     "data": {
      "image/png": "[encoded data removed]",
      "text/plain": [
       "<Figure size 640x480 with 1 Axes>"
      ]
     },
     "metadata": {},
     "output_type": "display_data"
    }
   ],
   "source": [
    "plt.hist(branches['gphi'], bins = 100 , range =(-3.5,3.5), density = True)\n",
    "plt.show()"
   ]
  },
  {
   "cell_type": "code",
   "execution_count": 20,
   "id": "ab0845cf-f7d3-493b-918d-87c1b365dcd3",
   "metadata": {},
   "outputs": [],
   "source": [
    "import awkward as ak"
   ]
  },
  {
   "cell_type": "code",
   "execution_count": 25,
   "id": "60258206-d946-426f-ac64-934d4ad79b63",
   "metadata": {},
   "outputs": [
    {
     "data": {
      "image/png": "[encoded data removed]",
      "text/plain": [
       "<Figure size 640x480 with 1 Axes>"
      ]
     },
     "metadata": {},
     "output_type": "display_data"
    }
   ],
   "source": [
    "plt.hist(ak.flatten(branches['gphi']), bins = 100, range = (-3.5, 3.5), density = True)\n",
    "plt.xlabel('gphi')\n",
    "plt.ylabel('Number of events')\n",
    "plt.show()"
   ]
  },
  {
   "cell_type": "code",
   "execution_count": null,
   "id": "02423c18-85bc-44fa-8055-442a32dd7c22",
   "metadata": {},
   "outputs": [],
   "source": []
  }
 ],
 "metadata": {
  "kernelspec": {
   "display_name": "Python 3 (ipykernel)",
   "language": "python",
   "name": "python3"
  },
  "language_info": {
   "codemirror_mode": {
    "name": "ipython",
    "version": 3
   },
   "file_extension": ".py",
   "mimetype": "text/x-python",
   "name": "python",
   "nbconvert_exporter": "python",
   "pygments_lexer": "ipython3",
   "version": "3.11.4"
  }
 },
 "nbformat": 4,
 "nbformat_minor": 5
}
